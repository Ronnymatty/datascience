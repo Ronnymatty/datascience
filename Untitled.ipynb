{
 "cells": [
  {
   "cell_type": "code",
   "execution_count": 1,
   "id": "8237dec7",
   "metadata": {},
   "outputs": [
    {
     "name": "stdout",
     "output_type": "stream",
     "text": [
      " Volume in drive C is Windows-SSD\n",
      " Volume Serial Number is D46A-F020\n",
      "\n",
      " Directory of C:\\myprojects\n",
      "\n",
      "12/08/2023  22:02    <DIR>          .\n",
      "12/08/2023  21:59    <DIR>          .ipynb_checkpoints\n",
      "09/08/2023  06:24           223,981 Data Analysis Day 3.ipynb\n",
      "09/08/2023  06:23           201,614 Data Analytics Day 4 Practice Class.ipynb\n",
      "12/08/2023  22:02            60,138 HRData-DataCleaning.xlsx\n",
      "06/08/2023  22:39           514,048 titanic3.xls\n",
      "12/08/2023  22:02               589 Untitled.ipynb\n",
      "               5 File(s)      1,000,370 bytes\n",
      "               2 Dir(s)  417,933,623,296 bytes free\n"
     ]
    }
   ],
   "source": [
    "ls"
   ]
  },
  {
   "cell_type": "code",
   "execution_count": 4,
   "id": "3683d99f",
   "metadata": {},
   "outputs": [],
   "source": [
    "import pandas as pd\n",
    "import numpy as np\n",
    "import matplotlib.pyplot as plt\n",
    "import seaborn as sns"
   ]
  },
  {
   "cell_type": "code",
   "execution_count": 5,
   "id": "22b980b3",
   "metadata": {},
   "outputs": [],
   "source": [
    "df=pd.read_excel('HRData-DataCleaning.xlsx')"
   ]
  },
  {
   "cell_type": "code",
   "execution_count": 6,
   "id": "5fdb3c88",
   "metadata": {},
   "outputs": [
    {
     "data": {
      "text/html": [
       "<div>\n",
       "<style scoped>\n",
       "    .dataframe tbody tr th:only-of-type {\n",
       "        vertical-align: middle;\n",
       "    }\n",
       "\n",
       "    .dataframe tbody tr th {\n",
       "        vertical-align: top;\n",
       "    }\n",
       "\n",
       "    .dataframe thead th {\n",
       "        text-align: right;\n",
       "    }\n",
       "</style>\n",
       "<table border=\"1\" class=\"dataframe\">\n",
       "  <thead>\n",
       "    <tr style=\"text-align: right;\">\n",
       "      <th></th>\n",
       "      <th>0</th>\n",
       "      <th>Name</th>\n",
       "      <th>Gender</th>\n",
       "      <th>Department</th>\n",
       "      <th>Salary</th>\n",
       "      <th>Location</th>\n",
       "      <th>Rating</th>\n",
       "    </tr>\n",
       "  </thead>\n",
       "  <tbody>\n",
       "    <tr>\n",
       "      <th>0</th>\n",
       "      <td>1</td>\n",
       "      <td>Ches Bonnell</td>\n",
       "      <td>Male</td>\n",
       "      <td>Sales</td>\n",
       "      <td>$88,050</td>\n",
       "      <td>Lagos</td>\n",
       "      <td>Very Good</td>\n",
       "    </tr>\n",
       "    <tr>\n",
       "      <th>1</th>\n",
       "      <td>2</td>\n",
       "      <td>Garwin Peasegood</td>\n",
       "      <td>Female</td>\n",
       "      <td>Engineering</td>\n",
       "      <td>$68,220</td>\n",
       "      <td>Lagos</td>\n",
       "      <td>Good</td>\n",
       "    </tr>\n",
       "    <tr>\n",
       "      <th>2</th>\n",
       "      <td>3</td>\n",
       "      <td>Sidoney Yitzhok</td>\n",
       "      <td>Female</td>\n",
       "      <td>NaN</td>\n",
       "      <td>$118,440</td>\n",
       "      <td>Abuja</td>\n",
       "      <td>Not Rated</td>\n",
       "    </tr>\n",
       "    <tr>\n",
       "      <th>3</th>\n",
       "      <td>4</td>\n",
       "      <td>Saunders Blumson</td>\n",
       "      <td>NaN</td>\n",
       "      <td>Legal</td>\n",
       "      <td>$56,370</td>\n",
       "      <td>Kaduna</td>\n",
       "      <td>Very Good</td>\n",
       "    </tr>\n",
       "    <tr>\n",
       "      <th>4</th>\n",
       "      <td>5</td>\n",
       "      <td>Gardy Grigorey</td>\n",
       "      <td>Female</td>\n",
       "      <td>Support</td>\n",
       "      <td>$107,090</td>\n",
       "      <td>Kaduna</td>\n",
       "      <td>Poor</td>\n",
       "    </tr>\n",
       "  </tbody>\n",
       "</table>\n",
       "</div>"
      ],
      "text/plain": [
       "   0              Name  Gender   Department     Salary Location     Rating\n",
       "0  1      Ches Bonnell    Male        Sales   $88,050     Lagos  Very Good\n",
       "1  2  Garwin Peasegood  Female  Engineering   $68,220     Lagos       Good\n",
       "2  3   Sidoney Yitzhok  Female          NaN  $118,440     Abuja  Not Rated\n",
       "3  4  Saunders Blumson     NaN        Legal   $56,370    Kaduna  Very Good\n",
       "4  5    Gardy Grigorey  Female      Support  $107,090    Kaduna       Poor"
      ]
     },
     "execution_count": 6,
     "metadata": {},
     "output_type": "execute_result"
    }
   ],
   "source": [
    "df.head()"
   ]
  },
  {
   "cell_type": "code",
   "execution_count": null,
   "id": "659c46f2",
   "metadata": {},
   "outputs": [],
   "source": []
  }
 ],
 "metadata": {
  "kernelspec": {
   "display_name": "Python 3 (ipykernel)",
   "language": "python",
   "name": "python3"
  },
  "language_info": {
   "codemirror_mode": {
    "name": "ipython",
    "version": 3
   },
   "file_extension": ".py",
   "mimetype": "text/x-python",
   "name": "python",
   "nbconvert_exporter": "python",
   "pygments_lexer": "ipython3",
   "version": "3.11.4"
  }
 },
 "nbformat": 4,
 "nbformat_minor": 5
}
