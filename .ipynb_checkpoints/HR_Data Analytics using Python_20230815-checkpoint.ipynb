{
 "cells": [
  {
   "cell_type": "code",
   "execution_count": 1,
   "id": "9ef63153",
   "metadata": {},
   "outputs": [
    {
     "name": "stdout",
     "output_type": "stream",
     "text": [
      " Volume in drive C is Windows-SSD\n",
      " Volume Serial Number is D46A-F020\n",
      "\n",
      " Directory of C:\\myprojects\n",
      "\n",
      "15/08/2023  22:10    <DIR>          .\n",
      "15/08/2023  22:10    <DIR>          .ipynb_checkpoints\n",
      "09/08/2023  06:24           223,981 Data Analysis Day 3.ipynb\n",
      "09/08/2023  06:23           201,614 Data Analytics Day 4 Practice Class.ipynb\n",
      "12/08/2023  22:02            60,138 HRData-DataCleaning.xlsx\n",
      "06/08/2023  22:39           514,048 titanic3.xls\n",
      "12/08/2023  22:30             5,367 Untitled.ipynb\n",
      "15/08/2023  22:10                72 Untitled1.ipynb\n",
      "               6 File(s)      1,005,220 bytes\n",
      "               2 Dir(s)  413,893,775,360 bytes free\n"
     ]
    }
   ],
   "source": [
    "ls"
   ]
  },
  {
   "cell_type": "code",
   "execution_count": 2,
   "id": "3044f53f",
   "metadata": {},
   "outputs": [],
   "source": [
    "import pandas as pd\n",
    "import numpy as np\n",
    "import matplotlib.pyplot as plt\n",
    "import seaborn as sns"
   ]
  },
  {
   "cell_type": "code",
   "execution_count": 3,
   "id": "b5c58f32",
   "metadata": {},
   "outputs": [],
   "source": [
    "df = pd.read_excel('HRData-DataCleaning.xlsx')"
   ]
  },
  {
   "cell_type": "code",
   "execution_count": 4,
   "id": "62d40c8a",
   "metadata": {},
   "outputs": [
    {
     "data": {
      "text/html": [
       "<div>\n",
       "<style scoped>\n",
       "    .dataframe tbody tr th:only-of-type {\n",
       "        vertical-align: middle;\n",
       "    }\n",
       "\n",
       "    .dataframe tbody tr th {\n",
       "        vertical-align: top;\n",
       "    }\n",
       "\n",
       "    .dataframe thead th {\n",
       "        text-align: right;\n",
       "    }\n",
       "</style>\n",
       "<table border=\"1\" class=\"dataframe\">\n",
       "  <thead>\n",
       "    <tr style=\"text-align: right;\">\n",
       "      <th></th>\n",
       "      <th>0</th>\n",
       "      <th>Name</th>\n",
       "      <th>Gender</th>\n",
       "      <th>Department</th>\n",
       "      <th>Salary</th>\n",
       "      <th>Location</th>\n",
       "      <th>Rating</th>\n",
       "    </tr>\n",
       "  </thead>\n",
       "  <tbody>\n",
       "    <tr>\n",
       "      <th>0</th>\n",
       "      <td>1</td>\n",
       "      <td>Ches Bonnell</td>\n",
       "      <td>Male</td>\n",
       "      <td>Sales</td>\n",
       "      <td>$88,050</td>\n",
       "      <td>Lagos</td>\n",
       "      <td>Very Good</td>\n",
       "    </tr>\n",
       "    <tr>\n",
       "      <th>1</th>\n",
       "      <td>2</td>\n",
       "      <td>Garwin Peasegood</td>\n",
       "      <td>Female</td>\n",
       "      <td>Engineering</td>\n",
       "      <td>$68,220</td>\n",
       "      <td>Lagos</td>\n",
       "      <td>Good</td>\n",
       "    </tr>\n",
       "    <tr>\n",
       "      <th>2</th>\n",
       "      <td>3</td>\n",
       "      <td>Sidoney Yitzhok</td>\n",
       "      <td>Female</td>\n",
       "      <td>NaN</td>\n",
       "      <td>$118,440</td>\n",
       "      <td>Abuja</td>\n",
       "      <td>Not Rated</td>\n",
       "    </tr>\n",
       "    <tr>\n",
       "      <th>3</th>\n",
       "      <td>4</td>\n",
       "      <td>Saunders Blumson</td>\n",
       "      <td>NaN</td>\n",
       "      <td>Legal</td>\n",
       "      <td>$56,370</td>\n",
       "      <td>Kaduna</td>\n",
       "      <td>Very Good</td>\n",
       "    </tr>\n",
       "    <tr>\n",
       "      <th>4</th>\n",
       "      <td>5</td>\n",
       "      <td>Gardy Grigorey</td>\n",
       "      <td>Female</td>\n",
       "      <td>Support</td>\n",
       "      <td>$107,090</td>\n",
       "      <td>Kaduna</td>\n",
       "      <td>Poor</td>\n",
       "    </tr>\n",
       "  </tbody>\n",
       "</table>\n",
       "</div>"
      ],
      "text/plain": [
       "   0              Name  Gender   Department     Salary Location     Rating\n",
       "0  1      Ches Bonnell    Male        Sales   $88,050     Lagos  Very Good\n",
       "1  2  Garwin Peasegood  Female  Engineering   $68,220     Lagos       Good\n",
       "2  3   Sidoney Yitzhok  Female          NaN  $118,440     Abuja  Not Rated\n",
       "3  4  Saunders Blumson     NaN        Legal   $56,370    Kaduna  Very Good\n",
       "4  5    Gardy Grigorey  Female      Support  $107,090    Kaduna       Poor"
      ]
     },
     "execution_count": 4,
     "metadata": {},
     "output_type": "execute_result"
    }
   ],
   "source": [
    "df.head()"
   ]
  },
  {
   "cell_type": "code",
   "execution_count": 5,
   "id": "28541e5f",
   "metadata": {},
   "outputs": [
    {
     "data": {
      "text/html": [
       "<div>\n",
       "<style scoped>\n",
       "    .dataframe tbody tr th:only-of-type {\n",
       "        vertical-align: middle;\n",
       "    }\n",
       "\n",
       "    .dataframe tbody tr th {\n",
       "        vertical-align: top;\n",
       "    }\n",
       "\n",
       "    .dataframe thead th {\n",
       "        text-align: right;\n",
       "    }\n",
       "</style>\n",
       "<table border=\"1\" class=\"dataframe\">\n",
       "  <thead>\n",
       "    <tr style=\"text-align: right;\">\n",
       "      <th></th>\n",
       "      <th>0</th>\n",
       "      <th>Name</th>\n",
       "      <th>Gender</th>\n",
       "      <th>Department</th>\n",
       "      <th>Salary</th>\n",
       "      <th>Location</th>\n",
       "      <th>Rating</th>\n",
       "    </tr>\n",
       "  </thead>\n",
       "  <tbody>\n",
       "    <tr>\n",
       "      <th>1008</th>\n",
       "      <td>1009</td>\n",
       "      <td>Christoph Stretton</td>\n",
       "      <td>Female</td>\n",
       "      <td>Business Development</td>\n",
       "      <td>$90,240</td>\n",
       "      <td>Abuja</td>\n",
       "      <td>Poor</td>\n",
       "    </tr>\n",
       "    <tr>\n",
       "      <th>1009</th>\n",
       "      <td>1010</td>\n",
       "      <td>Jordain Cyster</td>\n",
       "      <td>Female</td>\n",
       "      <td>Engineering</td>\n",
       "      <td>$75,870</td>\n",
       "      <td>Kaduna</td>\n",
       "      <td>Average</td>\n",
       "    </tr>\n",
       "    <tr>\n",
       "      <th>1010</th>\n",
       "      <td>1011</td>\n",
       "      <td>Malory Biles</td>\n",
       "      <td>Female</td>\n",
       "      <td>Training</td>\n",
       "      <td>$58,740</td>\n",
       "      <td>Kaduna</td>\n",
       "      <td>Not Rated</td>\n",
       "    </tr>\n",
       "    <tr>\n",
       "      <th>1011</th>\n",
       "      <td>1012</td>\n",
       "      <td>Adey Ryal</td>\n",
       "      <td>Female</td>\n",
       "      <td>Legal</td>\n",
       "      <td>$32,500</td>\n",
       "      <td>Lagos</td>\n",
       "      <td>Average</td>\n",
       "    </tr>\n",
       "    <tr>\n",
       "      <th>1012</th>\n",
       "      <td>1013</td>\n",
       "      <td>Adey Ryal</td>\n",
       "      <td>Female</td>\n",
       "      <td>Legal</td>\n",
       "      <td>$32,500</td>\n",
       "      <td>Lagos</td>\n",
       "      <td>Average</td>\n",
       "    </tr>\n",
       "  </tbody>\n",
       "</table>\n",
       "</div>"
      ],
      "text/plain": [
       "         0                Name  Gender            Department    Salary  \\\n",
       "1008  1009  Christoph Stretton  Female  Business Development  $90,240    \n",
       "1009  1010      Jordain Cyster  Female           Engineering  $75,870    \n",
       "1010  1011        Malory Biles  Female              Training  $58,740    \n",
       "1011  1012           Adey Ryal  Female                 Legal  $32,500    \n",
       "1012  1013           Adey Ryal  Female                 Legal  $32,500    \n",
       "\n",
       "     Location     Rating  \n",
       "1008    Abuja       Poor  \n",
       "1009   Kaduna    Average  \n",
       "1010   Kaduna  Not Rated  \n",
       "1011    Lagos    Average  \n",
       "1012    Lagos    Average  "
      ]
     },
     "execution_count": 5,
     "metadata": {},
     "output_type": "execute_result"
    }
   ],
   "source": [
    "df.tail()"
   ]
  },
  {
   "cell_type": "code",
   "execution_count": 6,
   "id": "c8440658",
   "metadata": {},
   "outputs": [
    {
     "name": "stdout",
     "output_type": "stream",
     "text": [
      "<class 'pandas.core.frame.DataFrame'>\n",
      "RangeIndex: 1013 entries, 0 to 1012\n",
      "Data columns (total 7 columns):\n",
      " #   Column      Non-Null Count  Dtype \n",
      "---  ------      --------------  ----- \n",
      " 0   0           1013 non-null   int64 \n",
      " 1   Name        1013 non-null   object\n",
      " 2   Gender      971 non-null    object\n",
      " 3   Department  986 non-null    object\n",
      " 4   Salary      970 non-null    object\n",
      " 5   Location    1013 non-null   object\n",
      " 6   Rating      1013 non-null   object\n",
      "dtypes: int64(1), object(6)\n",
      "memory usage: 55.5+ KB\n"
     ]
    }
   ],
   "source": [
    "df.info()"
   ]
  },
  {
   "cell_type": "code",
   "execution_count": 7,
   "id": "c42881a0",
   "metadata": {},
   "outputs": [],
   "source": [
    "df.drop(0,axis=1,inplace=True)"
   ]
  },
  {
   "cell_type": "code",
   "execution_count": 8,
   "id": "e64b92a0",
   "metadata": {},
   "outputs": [
    {
     "name": "stdout",
     "output_type": "stream",
     "text": [
      "<class 'pandas.core.frame.DataFrame'>\n",
      "RangeIndex: 1013 entries, 0 to 1012\n",
      "Data columns (total 6 columns):\n",
      " #   Column      Non-Null Count  Dtype \n",
      "---  ------      --------------  ----- \n",
      " 0   Name        1013 non-null   object\n",
      " 1   Gender      971 non-null    object\n",
      " 2   Department  986 non-null    object\n",
      " 3   Salary      970 non-null    object\n",
      " 4   Location    1013 non-null   object\n",
      " 5   Rating      1013 non-null   object\n",
      "dtypes: object(6)\n",
      "memory usage: 47.6+ KB\n"
     ]
    }
   ],
   "source": [
    "df.info()"
   ]
  },
  {
   "cell_type": "code",
   "execution_count": 9,
   "id": "4b25823f",
   "metadata": {},
   "outputs": [
    {
     "data": {
      "text/plain": [
       "Name           0\n",
       "Gender        42\n",
       "Department    27\n",
       "Salary        43\n",
       "Location       0\n",
       "Rating         0\n",
       "dtype: int64"
      ]
     },
     "execution_count": 9,
     "metadata": {},
     "output_type": "execute_result"
    }
   ],
   "source": [
    "df.isnull().sum()"
   ]
  },
  {
   "cell_type": "code",
   "execution_count": 10,
   "id": "e1f40ced",
   "metadata": {},
   "outputs": [
    {
     "data": {
      "text/plain": [
       "Name          0.000000\n",
       "Gender        4.146101\n",
       "Department    2.665350\n",
       "Salary        4.244817\n",
       "Location      0.000000\n",
       "Rating        0.000000\n",
       "dtype: float64"
      ]
     },
     "execution_count": 10,
     "metadata": {},
     "output_type": "execute_result"
    }
   ],
   "source": [
    "df.isnull().sum()*100/len(df)"
   ]
  },
  {
   "cell_type": "code",
   "execution_count": 11,
   "id": "51b73cff",
   "metadata": {},
   "outputs": [
    {
     "data": {
      "text/plain": [
       "array(['Male', 'Female', nan], dtype=object)"
      ]
     },
     "execution_count": 11,
     "metadata": {},
     "output_type": "execute_result"
    }
   ],
   "source": [
    "df['Gender'].unique()"
   ]
  },
  {
   "cell_type": "code",
   "execution_count": 12,
   "id": "da6d5cb1",
   "metadata": {},
   "outputs": [
    {
     "data": {
      "text/html": [
       "<div>\n",
       "<style scoped>\n",
       "    .dataframe tbody tr th:only-of-type {\n",
       "        vertical-align: middle;\n",
       "    }\n",
       "\n",
       "    .dataframe tbody tr th {\n",
       "        vertical-align: top;\n",
       "    }\n",
       "\n",
       "    .dataframe thead th {\n",
       "        text-align: right;\n",
       "    }\n",
       "</style>\n",
       "<table border=\"1\" class=\"dataframe\">\n",
       "  <thead>\n",
       "    <tr style=\"text-align: right;\">\n",
       "      <th></th>\n",
       "      <th>Name</th>\n",
       "      <th>Gender</th>\n",
       "      <th>Department</th>\n",
       "      <th>Salary</th>\n",
       "      <th>Location</th>\n",
       "      <th>Rating</th>\n",
       "    </tr>\n",
       "  </thead>\n",
       "  <tbody>\n",
       "    <tr>\n",
       "      <th>3</th>\n",
       "      <td>Saunders Blumson</td>\n",
       "      <td>NaN</td>\n",
       "      <td>Legal</td>\n",
       "      <td>$56,370</td>\n",
       "      <td>Kaduna</td>\n",
       "      <td>Very Good</td>\n",
       "    </tr>\n",
       "    <tr>\n",
       "      <th>8</th>\n",
       "      <td>Rayna Gamlin</td>\n",
       "      <td>NaN</td>\n",
       "      <td>Services</td>\n",
       "      <td>NaN</td>\n",
       "      <td>Abuja</td>\n",
       "      <td>Average</td>\n",
       "    </tr>\n",
       "    <tr>\n",
       "      <th>45</th>\n",
       "      <td>Fancy Bonin</td>\n",
       "      <td>NaN</td>\n",
       "      <td>Training</td>\n",
       "      <td>$84,680</td>\n",
       "      <td>Lagos</td>\n",
       "      <td>Good</td>\n",
       "    </tr>\n",
       "    <tr>\n",
       "      <th>47</th>\n",
       "      <td>Beatrix Schoales</td>\n",
       "      <td>NaN</td>\n",
       "      <td>Sales</td>\n",
       "      <td>$114,010</td>\n",
       "      <td>Kaduna</td>\n",
       "      <td>Average</td>\n",
       "    </tr>\n",
       "    <tr>\n",
       "      <th>48</th>\n",
       "      <td>Clemmie Hebblewaite</td>\n",
       "      <td>NaN</td>\n",
       "      <td>Services</td>\n",
       "      <td>$54,130</td>\n",
       "      <td>Kaduna</td>\n",
       "      <td>Very Poor</td>\n",
       "    </tr>\n",
       "    <tr>\n",
       "      <th>74</th>\n",
       "      <td>Grover Cooksey</td>\n",
       "      <td>NaN</td>\n",
       "      <td>Services</td>\n",
       "      <td>$74,620</td>\n",
       "      <td>Kaduna</td>\n",
       "      <td>Poor</td>\n",
       "    </tr>\n",
       "    <tr>\n",
       "      <th>114</th>\n",
       "      <td>Mile Swindley</td>\n",
       "      <td>NaN</td>\n",
       "      <td>Business Development</td>\n",
       "      <td>NaN</td>\n",
       "      <td>Kaduna</td>\n",
       "      <td>Average</td>\n",
       "    </tr>\n",
       "    <tr>\n",
       "      <th>154</th>\n",
       "      <td>Amaleta Baltzar</td>\n",
       "      <td>NaN</td>\n",
       "      <td>Research and Development</td>\n",
       "      <td>$70,080</td>\n",
       "      <td>Lagos</td>\n",
       "      <td>Very Poor</td>\n",
       "    </tr>\n",
       "    <tr>\n",
       "      <th>169</th>\n",
       "      <td>Vassili Flay</td>\n",
       "      <td>NaN</td>\n",
       "      <td>Research and Development</td>\n",
       "      <td>$108,970</td>\n",
       "      <td>Abuja</td>\n",
       "      <td>Average</td>\n",
       "    </tr>\n",
       "    <tr>\n",
       "      <th>172</th>\n",
       "      <td>Norrie Grahl</td>\n",
       "      <td>NaN</td>\n",
       "      <td>Business Development</td>\n",
       "      <td>$42,950</td>\n",
       "      <td>Abuja</td>\n",
       "      <td>Poor</td>\n",
       "    </tr>\n",
       "    <tr>\n",
       "      <th>195</th>\n",
       "      <td>Peria Revey</td>\n",
       "      <td>NaN</td>\n",
       "      <td>Engineering</td>\n",
       "      <td>$103,240</td>\n",
       "      <td>Kaduna</td>\n",
       "      <td>Good</td>\n",
       "    </tr>\n",
       "    <tr>\n",
       "      <th>218</th>\n",
       "      <td>Tadio Audritt</td>\n",
       "      <td>NaN</td>\n",
       "      <td>Human Resources</td>\n",
       "      <td>$99,450</td>\n",
       "      <td>Abuja</td>\n",
       "      <td>Average</td>\n",
       "    </tr>\n",
       "    <tr>\n",
       "      <th>225</th>\n",
       "      <td>Berny Bastide</td>\n",
       "      <td>NaN</td>\n",
       "      <td>Research and Development</td>\n",
       "      <td>$56,710</td>\n",
       "      <td>Kaduna</td>\n",
       "      <td>Average</td>\n",
       "    </tr>\n",
       "    <tr>\n",
       "      <th>251</th>\n",
       "      <td>Egor Minto</td>\n",
       "      <td>NaN</td>\n",
       "      <td>Legal</td>\n",
       "      <td>$63,450</td>\n",
       "      <td>Abuja</td>\n",
       "      <td>Good</td>\n",
       "    </tr>\n",
       "    <tr>\n",
       "      <th>262</th>\n",
       "      <td>Nanice Boatwright</td>\n",
       "      <td>NaN</td>\n",
       "      <td>Marketing</td>\n",
       "      <td>$105,870</td>\n",
       "      <td>Abuja</td>\n",
       "      <td>Very Poor</td>\n",
       "    </tr>\n",
       "    <tr>\n",
       "      <th>327</th>\n",
       "      <td>Delinda Snozzwell</td>\n",
       "      <td>NaN</td>\n",
       "      <td>Engineering</td>\n",
       "      <td>$67,010</td>\n",
       "      <td>Abuja</td>\n",
       "      <td>Good</td>\n",
       "    </tr>\n",
       "    <tr>\n",
       "      <th>350</th>\n",
       "      <td>Inger Andriveaux</td>\n",
       "      <td>NaN</td>\n",
       "      <td>Accounting</td>\n",
       "      <td>$107,110</td>\n",
       "      <td>Abuja</td>\n",
       "      <td>Good</td>\n",
       "    </tr>\n",
       "    <tr>\n",
       "      <th>368</th>\n",
       "      <td>Bethanne Leicester</td>\n",
       "      <td>NaN</td>\n",
       "      <td>Services</td>\n",
       "      <td>$72,450</td>\n",
       "      <td>Abuja</td>\n",
       "      <td>Not Rated</td>\n",
       "    </tr>\n",
       "    <tr>\n",
       "      <th>370</th>\n",
       "      <td>Barnaby Farnall</td>\n",
       "      <td>NaN</td>\n",
       "      <td>Engineering</td>\n",
       "      <td>$118,800</td>\n",
       "      <td>Kaduna</td>\n",
       "      <td>Very Good</td>\n",
       "    </tr>\n",
       "    <tr>\n",
       "      <th>410</th>\n",
       "      <td>Marissa Infante</td>\n",
       "      <td>NaN</td>\n",
       "      <td>Training</td>\n",
       "      <td>$78,840</td>\n",
       "      <td>Lagos</td>\n",
       "      <td>Average</td>\n",
       "    </tr>\n",
       "    <tr>\n",
       "      <th>421</th>\n",
       "      <td>Nananne Gehringer</td>\n",
       "      <td>NaN</td>\n",
       "      <td>Support</td>\n",
       "      <td>$104,800</td>\n",
       "      <td>Lagos</td>\n",
       "      <td>Average</td>\n",
       "    </tr>\n",
       "    <tr>\n",
       "      <th>429</th>\n",
       "      <td>Ali Roubert</td>\n",
       "      <td>NaN</td>\n",
       "      <td>Engineering</td>\n",
       "      <td>$69,460</td>\n",
       "      <td>Abuja</td>\n",
       "      <td>Very Good</td>\n",
       "    </tr>\n",
       "    <tr>\n",
       "      <th>445</th>\n",
       "      <td>Gisela Wille</td>\n",
       "      <td>NaN</td>\n",
       "      <td>Support</td>\n",
       "      <td>$58,850</td>\n",
       "      <td>Lagos</td>\n",
       "      <td>Poor</td>\n",
       "    </tr>\n",
       "    <tr>\n",
       "      <th>551</th>\n",
       "      <td>Clarine Shambrooke</td>\n",
       "      <td>NaN</td>\n",
       "      <td>Support</td>\n",
       "      <td>$93,160</td>\n",
       "      <td>Lagos</td>\n",
       "      <td>Average</td>\n",
       "    </tr>\n",
       "    <tr>\n",
       "      <th>559</th>\n",
       "      <td>Saunders Blumson</td>\n",
       "      <td>NaN</td>\n",
       "      <td>Legal</td>\n",
       "      <td>$56,370</td>\n",
       "      <td>Abuja</td>\n",
       "      <td>Average</td>\n",
       "    </tr>\n",
       "    <tr>\n",
       "      <th>600</th>\n",
       "      <td>Edgard Irving</td>\n",
       "      <td>NaN</td>\n",
       "      <td>Research and Development</td>\n",
       "      <td>$87,290</td>\n",
       "      <td>Kaduna</td>\n",
       "      <td>Good</td>\n",
       "    </tr>\n",
       "    <tr>\n",
       "      <th>602</th>\n",
       "      <td>Kikelia Ellor</td>\n",
       "      <td>NaN</td>\n",
       "      <td>Engineering</td>\n",
       "      <td>$34,620</td>\n",
       "      <td>Kaduna</td>\n",
       "      <td>Very Good</td>\n",
       "    </tr>\n",
       "    <tr>\n",
       "      <th>644</th>\n",
       "      <td>Zebulon Allmen</td>\n",
       "      <td>NaN</td>\n",
       "      <td>Business Development</td>\n",
       "      <td>$52,140</td>\n",
       "      <td>Abuja</td>\n",
       "      <td>Average</td>\n",
       "    </tr>\n",
       "    <tr>\n",
       "      <th>672</th>\n",
       "      <td>Grady Crosgrove</td>\n",
       "      <td>NaN</td>\n",
       "      <td>Sales</td>\n",
       "      <td>$77,910</td>\n",
       "      <td>Kaduna</td>\n",
       "      <td>Average</td>\n",
       "    </tr>\n",
       "    <tr>\n",
       "      <th>722</th>\n",
       "      <td>Benny Karolovsky</td>\n",
       "      <td>NaN</td>\n",
       "      <td>Human Resources</td>\n",
       "      <td>$115,440</td>\n",
       "      <td>Abuja</td>\n",
       "      <td>Average</td>\n",
       "    </tr>\n",
       "    <tr>\n",
       "      <th>728</th>\n",
       "      <td>Purcell Le Pine</td>\n",
       "      <td>NaN</td>\n",
       "      <td>Legal</td>\n",
       "      <td>$101,220</td>\n",
       "      <td>Kaduna</td>\n",
       "      <td>Good</td>\n",
       "    </tr>\n",
       "    <tr>\n",
       "      <th>734</th>\n",
       "      <td>Alysa Wankling</td>\n",
       "      <td>NaN</td>\n",
       "      <td>Legal</td>\n",
       "      <td>$106,460</td>\n",
       "      <td>Lagos</td>\n",
       "      <td>Good</td>\n",
       "    </tr>\n",
       "    <tr>\n",
       "      <th>757</th>\n",
       "      <td>Anjanette Ferre</td>\n",
       "      <td>NaN</td>\n",
       "      <td>Human Resources</td>\n",
       "      <td>$67,960</td>\n",
       "      <td>Abuja</td>\n",
       "      <td>Average</td>\n",
       "    </tr>\n",
       "    <tr>\n",
       "      <th>766</th>\n",
       "      <td>Jolynn Lumbley</td>\n",
       "      <td>NaN</td>\n",
       "      <td>Research and Development</td>\n",
       "      <td>$70,020</td>\n",
       "      <td>Abuja</td>\n",
       "      <td>Average</td>\n",
       "    </tr>\n",
       "    <tr>\n",
       "      <th>854</th>\n",
       "      <td>Lisle Danahar</td>\n",
       "      <td>NaN</td>\n",
       "      <td>Sales</td>\n",
       "      <td>$75,990</td>\n",
       "      <td>Kaduna</td>\n",
       "      <td>Average</td>\n",
       "    </tr>\n",
       "    <tr>\n",
       "      <th>856</th>\n",
       "      <td>Anjela Spancock</td>\n",
       "      <td>NaN</td>\n",
       "      <td>Accounting</td>\n",
       "      <td>$98,010</td>\n",
       "      <td>Lagos</td>\n",
       "      <td>Average</td>\n",
       "    </tr>\n",
       "    <tr>\n",
       "      <th>908</th>\n",
       "      <td>Bill Luffman</td>\n",
       "      <td>NaN</td>\n",
       "      <td>NaN</td>\n",
       "      <td>$41,570</td>\n",
       "      <td>Abuja</td>\n",
       "      <td>Average</td>\n",
       "    </tr>\n",
       "    <tr>\n",
       "      <th>957</th>\n",
       "      <td>Juanita Trembey</td>\n",
       "      <td>NaN</td>\n",
       "      <td>Business Development</td>\n",
       "      <td>$54,780</td>\n",
       "      <td>Kaduna</td>\n",
       "      <td>Very Good</td>\n",
       "    </tr>\n",
       "    <tr>\n",
       "      <th>969</th>\n",
       "      <td>Alisha Bloschke</td>\n",
       "      <td>NaN</td>\n",
       "      <td>Product Management</td>\n",
       "      <td>$36,480</td>\n",
       "      <td>Abuja</td>\n",
       "      <td>Average</td>\n",
       "    </tr>\n",
       "    <tr>\n",
       "      <th>985</th>\n",
       "      <td>Frasquito Mosley</td>\n",
       "      <td>NaN</td>\n",
       "      <td>Support</td>\n",
       "      <td>$48,090</td>\n",
       "      <td>Abuja</td>\n",
       "      <td>Not Rated</td>\n",
       "    </tr>\n",
       "    <tr>\n",
       "      <th>988</th>\n",
       "      <td>Fairfax Wallsam</td>\n",
       "      <td>NaN</td>\n",
       "      <td>Sales</td>\n",
       "      <td>$88,590</td>\n",
       "      <td>Abuja</td>\n",
       "      <td>Average</td>\n",
       "    </tr>\n",
       "    <tr>\n",
       "      <th>1002</th>\n",
       "      <td>Madge McCloughen</td>\n",
       "      <td>NaN</td>\n",
       "      <td>Training</td>\n",
       "      <td>$91,310</td>\n",
       "      <td>Kaduna</td>\n",
       "      <td>Average</td>\n",
       "    </tr>\n",
       "  </tbody>\n",
       "</table>\n",
       "</div>"
      ],
      "text/plain": [
       "                     Name Gender                Department     Salary  \\\n",
       "3        Saunders Blumson    NaN                     Legal   $56,370    \n",
       "8            Rayna Gamlin    NaN                  Services        NaN   \n",
       "45            Fancy Bonin    NaN                  Training   $84,680    \n",
       "47       Beatrix Schoales    NaN                     Sales  $114,010    \n",
       "48    Clemmie Hebblewaite    NaN                  Services   $54,130    \n",
       "74         Grover Cooksey    NaN                  Services   $74,620    \n",
       "114         Mile Swindley    NaN      Business Development        NaN   \n",
       "154       Amaleta Baltzar    NaN  Research and Development   $70,080    \n",
       "169          Vassili Flay    NaN  Research and Development  $108,970    \n",
       "172          Norrie Grahl    NaN      Business Development   $42,950    \n",
       "195           Peria Revey    NaN               Engineering  $103,240    \n",
       "218         Tadio Audritt    NaN           Human Resources   $99,450    \n",
       "225         Berny Bastide    NaN  Research and Development   $56,710    \n",
       "251            Egor Minto    NaN                     Legal   $63,450    \n",
       "262     Nanice Boatwright    NaN                 Marketing  $105,870    \n",
       "327     Delinda Snozzwell    NaN               Engineering   $67,010    \n",
       "350      Inger Andriveaux    NaN                Accounting  $107,110    \n",
       "368    Bethanne Leicester    NaN                  Services   $72,450    \n",
       "370       Barnaby Farnall    NaN               Engineering  $118,800    \n",
       "410       Marissa Infante    NaN                  Training   $78,840    \n",
       "421     Nananne Gehringer    NaN                   Support  $104,800    \n",
       "429           Ali Roubert    NaN               Engineering   $69,460    \n",
       "445          Gisela Wille    NaN                   Support   $58,850    \n",
       "551    Clarine Shambrooke    NaN                   Support   $93,160    \n",
       "559      Saunders Blumson    NaN                     Legal   $56,370    \n",
       "600         Edgard Irving    NaN  Research and Development   $87,290    \n",
       "602         Kikelia Ellor    NaN               Engineering   $34,620    \n",
       "644        Zebulon Allmen    NaN      Business Development   $52,140    \n",
       "672       Grady Crosgrove    NaN                     Sales   $77,910    \n",
       "722      Benny Karolovsky    NaN           Human Resources  $115,440    \n",
       "728       Purcell Le Pine    NaN                     Legal  $101,220    \n",
       "734        Alysa Wankling    NaN                     Legal  $106,460    \n",
       "757       Anjanette Ferre    NaN           Human Resources   $67,960    \n",
       "766        Jolynn Lumbley    NaN  Research and Development   $70,020    \n",
       "854         Lisle Danahar    NaN                     Sales   $75,990    \n",
       "856       Anjela Spancock    NaN                Accounting   $98,010    \n",
       "908          Bill Luffman    NaN                       NaN   $41,570    \n",
       "957       Juanita Trembey    NaN      Business Development   $54,780    \n",
       "969       Alisha Bloschke    NaN        Product Management   $36,480    \n",
       "985      Frasquito Mosley    NaN                   Support   $48,090    \n",
       "988       Fairfax Wallsam    NaN                     Sales   $88,590    \n",
       "1002     Madge McCloughen    NaN                  Training   $91,310    \n",
       "\n",
       "     Location     Rating  \n",
       "3      Kaduna  Very Good  \n",
       "8       Abuja    Average  \n",
       "45      Lagos       Good  \n",
       "47     Kaduna    Average  \n",
       "48     Kaduna  Very Poor  \n",
       "74     Kaduna       Poor  \n",
       "114    Kaduna    Average  \n",
       "154     Lagos  Very Poor  \n",
       "169     Abuja    Average  \n",
       "172     Abuja       Poor  \n",
       "195    Kaduna       Good  \n",
       "218     Abuja    Average  \n",
       "225    Kaduna    Average  \n",
       "251     Abuja       Good  \n",
       "262     Abuja  Very Poor  \n",
       "327     Abuja       Good  \n",
       "350     Abuja       Good  \n",
       "368     Abuja  Not Rated  \n",
       "370    Kaduna  Very Good  \n",
       "410     Lagos    Average  \n",
       "421     Lagos    Average  \n",
       "429     Abuja  Very Good  \n",
       "445     Lagos       Poor  \n",
       "551     Lagos    Average  \n",
       "559     Abuja    Average  \n",
       "600    Kaduna       Good  \n",
       "602    Kaduna  Very Good  \n",
       "644     Abuja    Average  \n",
       "672    Kaduna    Average  \n",
       "722     Abuja    Average  \n",
       "728    Kaduna       Good  \n",
       "734     Lagos       Good  \n",
       "757     Abuja    Average  \n",
       "766     Abuja    Average  \n",
       "854    Kaduna    Average  \n",
       "856     Lagos    Average  \n",
       "908     Abuja    Average  \n",
       "957    Kaduna  Very Good  \n",
       "969     Abuja    Average  \n",
       "985     Abuja  Not Rated  \n",
       "988     Abuja    Average  \n",
       "1002   Kaduna    Average  "
      ]
     },
     "execution_count": 12,
     "metadata": {},
     "output_type": "execute_result"
    }
   ],
   "source": [
    "df[df['Gender'].isnull()]"
   ]
  },
  {
   "cell_type": "code",
   "execution_count": 13,
   "id": "a1e29e00",
   "metadata": {},
   "outputs": [],
   "source": [
    "df['Gender'] = df['Gender'].fillna('Non-Binary')"
   ]
  },
  {
   "cell_type": "code",
   "execution_count": 14,
   "id": "d080daa2",
   "metadata": {},
   "outputs": [
    {
     "data": {
      "text/html": [
       "<div>\n",
       "<style scoped>\n",
       "    .dataframe tbody tr th:only-of-type {\n",
       "        vertical-align: middle;\n",
       "    }\n",
       "\n",
       "    .dataframe tbody tr th {\n",
       "        vertical-align: top;\n",
       "    }\n",
       "\n",
       "    .dataframe thead th {\n",
       "        text-align: right;\n",
       "    }\n",
       "</style>\n",
       "<table border=\"1\" class=\"dataframe\">\n",
       "  <thead>\n",
       "    <tr style=\"text-align: right;\">\n",
       "      <th></th>\n",
       "      <th>Name</th>\n",
       "      <th>Gender</th>\n",
       "      <th>Department</th>\n",
       "      <th>Salary</th>\n",
       "      <th>Location</th>\n",
       "      <th>Rating</th>\n",
       "    </tr>\n",
       "  </thead>\n",
       "  <tbody>\n",
       "  </tbody>\n",
       "</table>\n",
       "</div>"
      ],
      "text/plain": [
       "Empty DataFrame\n",
       "Columns: [Name, Gender, Department, Salary, Location, Rating]\n",
       "Index: []"
      ]
     },
     "execution_count": 14,
     "metadata": {},
     "output_type": "execute_result"
    }
   ],
   "source": [
    "df[df['Gender'].isnull()]"
   ]
  },
  {
   "cell_type": "code",
   "execution_count": 15,
   "id": "cd9a09ae",
   "metadata": {},
   "outputs": [
    {
     "data": {
      "text/plain": [
       "array(['Male', 'Female', 'Non-Binary'], dtype=object)"
      ]
     },
     "execution_count": 15,
     "metadata": {},
     "output_type": "execute_result"
    }
   ],
   "source": [
    "df['Gender'].unique()"
   ]
  },
  {
   "cell_type": "code",
   "execution_count": 16,
   "id": "d37333d1",
   "metadata": {},
   "outputs": [
    {
     "data": {
      "text/plain": [
       "Name           0\n",
       "Gender         0\n",
       "Department    27\n",
       "Salary        43\n",
       "Location       0\n",
       "Rating         0\n",
       "dtype: int64"
      ]
     },
     "execution_count": 16,
     "metadata": {},
     "output_type": "execute_result"
    }
   ],
   "source": [
    "df.isnull().sum()"
   ]
  },
  {
   "cell_type": "code",
   "execution_count": 17,
   "id": "930306b5",
   "metadata": {},
   "outputs": [
    {
     "data": {
      "text/plain": [
       "Male          499\n",
       "Female        472\n",
       "Non-Binary     42\n",
       "Name: Gender, dtype: int64"
      ]
     },
     "execution_count": 17,
     "metadata": {},
     "output_type": "execute_result"
    }
   ],
   "source": [
    "df['Gender'].value_counts()"
   ]
  },
  {
   "cell_type": "code",
   "execution_count": 18,
   "id": "8cfba894",
   "metadata": {},
   "outputs": [
    {
     "data": {
      "text/html": [
       "<div>\n",
       "<style scoped>\n",
       "    .dataframe tbody tr th:only-of-type {\n",
       "        vertical-align: middle;\n",
       "    }\n",
       "\n",
       "    .dataframe tbody tr th {\n",
       "        vertical-align: top;\n",
       "    }\n",
       "\n",
       "    .dataframe thead th {\n",
       "        text-align: right;\n",
       "    }\n",
       "</style>\n",
       "<table border=\"1\" class=\"dataframe\">\n",
       "  <thead>\n",
       "    <tr style=\"text-align: right;\">\n",
       "      <th></th>\n",
       "      <th>Name</th>\n",
       "      <th>Gender</th>\n",
       "      <th>Department</th>\n",
       "      <th>Salary</th>\n",
       "      <th>Location</th>\n",
       "      <th>Rating</th>\n",
       "    </tr>\n",
       "  </thead>\n",
       "  <tbody>\n",
       "    <tr>\n",
       "      <th>46</th>\n",
       "      <td>Laura Gomar</td>\n",
       "      <td>Female</td>\n",
       "      <td>Research and Development</td>\n",
       "      <td>$36,860</td>\n",
       "      <td>Lag0s</td>\n",
       "      <td>Poor</td>\n",
       "    </tr>\n",
       "  </tbody>\n",
       "</table>\n",
       "</div>"
      ],
      "text/plain": [
       "           Name  Gender                Department    Salary Location Rating\n",
       "46  Laura Gomar  Female  Research and Development  $36,860     Lag0s   Poor"
      ]
     },
     "execution_count": 18,
     "metadata": {},
     "output_type": "execute_result"
    }
   ],
   "source": [
    "df[df['Location']=='Lag0s']"
   ]
  },
  {
   "cell_type": "code",
   "execution_count": 19,
   "id": "331d7168",
   "metadata": {},
   "outputs": [
    {
     "data": {
      "text/html": [
       "<div>\n",
       "<style scoped>\n",
       "    .dataframe tbody tr th:only-of-type {\n",
       "        vertical-align: middle;\n",
       "    }\n",
       "\n",
       "    .dataframe tbody tr th {\n",
       "        vertical-align: top;\n",
       "    }\n",
       "\n",
       "    .dataframe thead th {\n",
       "        text-align: right;\n",
       "    }\n",
       "</style>\n",
       "<table border=\"1\" class=\"dataframe\">\n",
       "  <thead>\n",
       "    <tr style=\"text-align: right;\">\n",
       "      <th></th>\n",
       "      <th>Name</th>\n",
       "      <th>Gender</th>\n",
       "      <th>Department</th>\n",
       "      <th>Salary</th>\n",
       "      <th>Location</th>\n",
       "      <th>Rating</th>\n",
       "    </tr>\n",
       "  </thead>\n",
       "  <tbody>\n",
       "    <tr>\n",
       "      <th>0</th>\n",
       "      <td>Ches Bonnell</td>\n",
       "      <td>Male</td>\n",
       "      <td>Sales</td>\n",
       "      <td>$88,050</td>\n",
       "      <td>Lagos</td>\n",
       "      <td>Very Good</td>\n",
       "    </tr>\n",
       "    <tr>\n",
       "      <th>1</th>\n",
       "      <td>Garwin Peasegood</td>\n",
       "      <td>Female</td>\n",
       "      <td>Engineering</td>\n",
       "      <td>$68,220</td>\n",
       "      <td>Lagos</td>\n",
       "      <td>Good</td>\n",
       "    </tr>\n",
       "    <tr>\n",
       "      <th>6</th>\n",
       "      <td>Adella Hartshorne</td>\n",
       "      <td>Female</td>\n",
       "      <td>Human Resources</td>\n",
       "      <td>$41,160</td>\n",
       "      <td>Lagos</td>\n",
       "      <td>Average</td>\n",
       "    </tr>\n",
       "    <tr>\n",
       "      <th>10</th>\n",
       "      <td>Selby Hacker</td>\n",
       "      <td>Male</td>\n",
       "      <td>Business Development</td>\n",
       "      <td>$37,800</td>\n",
       "      <td>Lagos</td>\n",
       "      <td>Average</td>\n",
       "    </tr>\n",
       "    <tr>\n",
       "      <th>17</th>\n",
       "      <td>Dyanne Strafen</td>\n",
       "      <td>Male</td>\n",
       "      <td>Engineering</td>\n",
       "      <td>$113,800</td>\n",
       "      <td>Lagos</td>\n",
       "      <td>Average</td>\n",
       "    </tr>\n",
       "    <tr>\n",
       "      <th>...</th>\n",
       "      <td>...</td>\n",
       "      <td>...</td>\n",
       "      <td>...</td>\n",
       "      <td>...</td>\n",
       "      <td>...</td>\n",
       "      <td>...</td>\n",
       "    </tr>\n",
       "    <tr>\n",
       "      <th>1001</th>\n",
       "      <td>Curtice Advani</td>\n",
       "      <td>Male</td>\n",
       "      <td>Product Management</td>\n",
       "      <td>$59,810</td>\n",
       "      <td>Lagos</td>\n",
       "      <td>Good</td>\n",
       "    </tr>\n",
       "    <tr>\n",
       "      <th>1003</th>\n",
       "      <td>Frasier Straw</td>\n",
       "      <td>Male</td>\n",
       "      <td>Business Development</td>\n",
       "      <td>$71,370</td>\n",
       "      <td>Lagos</td>\n",
       "      <td>Average</td>\n",
       "    </tr>\n",
       "    <tr>\n",
       "      <th>1005</th>\n",
       "      <td>Anni Dinse</td>\n",
       "      <td>Male</td>\n",
       "      <td>Product Management</td>\n",
       "      <td>$119,670</td>\n",
       "      <td>Lagos</td>\n",
       "      <td>Not Rated</td>\n",
       "    </tr>\n",
       "    <tr>\n",
       "      <th>1011</th>\n",
       "      <td>Adey Ryal</td>\n",
       "      <td>Female</td>\n",
       "      <td>Legal</td>\n",
       "      <td>$32,500</td>\n",
       "      <td>Lagos</td>\n",
       "      <td>Average</td>\n",
       "    </tr>\n",
       "    <tr>\n",
       "      <th>1012</th>\n",
       "      <td>Adey Ryal</td>\n",
       "      <td>Female</td>\n",
       "      <td>Legal</td>\n",
       "      <td>$32,500</td>\n",
       "      <td>Lagos</td>\n",
       "      <td>Average</td>\n",
       "    </tr>\n",
       "  </tbody>\n",
       "</table>\n",
       "<p>269 rows × 6 columns</p>\n",
       "</div>"
      ],
      "text/plain": [
       "                   Name  Gender            Department     Salary Location  \\\n",
       "0          Ches Bonnell    Male                 Sales   $88,050     Lagos   \n",
       "1      Garwin Peasegood  Female           Engineering   $68,220     Lagos   \n",
       "6     Adella Hartshorne  Female       Human Resources   $41,160     Lagos   \n",
       "10         Selby Hacker    Male  Business Development   $37,800     Lagos   \n",
       "17       Dyanne Strafen    Male           Engineering  $113,800     Lagos   \n",
       "...                 ...     ...                   ...        ...      ...   \n",
       "1001     Curtice Advani    Male    Product Management   $59,810     Lagos   \n",
       "1003      Frasier Straw    Male  Business Development   $71,370     Lagos   \n",
       "1005         Anni Dinse    Male    Product Management  $119,670     Lagos   \n",
       "1011          Adey Ryal  Female                 Legal   $32,500     Lagos   \n",
       "1012          Adey Ryal  Female                 Legal   $32,500     Lagos   \n",
       "\n",
       "         Rating  \n",
       "0     Very Good  \n",
       "1          Good  \n",
       "6       Average  \n",
       "10      Average  \n",
       "17      Average  \n",
       "...         ...  \n",
       "1001       Good  \n",
       "1003    Average  \n",
       "1005  Not Rated  \n",
       "1011    Average  \n",
       "1012    Average  \n",
       "\n",
       "[269 rows x 6 columns]"
      ]
     },
     "execution_count": 19,
     "metadata": {},
     "output_type": "execute_result"
    }
   ],
   "source": [
    "df[df['Location']=='Lagos']"
   ]
  },
  {
   "cell_type": "code",
   "execution_count": 20,
   "id": "0147e42e",
   "metadata": {},
   "outputs": [],
   "source": [
    "df['Location']=df['Location'].replace('Lag0s','Lagos')"
   ]
  },
  {
   "cell_type": "code",
   "execution_count": 21,
   "id": "476cb8d3",
   "metadata": {},
   "outputs": [
    {
     "data": {
      "text/html": [
       "<div>\n",
       "<style scoped>\n",
       "    .dataframe tbody tr th:only-of-type {\n",
       "        vertical-align: middle;\n",
       "    }\n",
       "\n",
       "    .dataframe tbody tr th {\n",
       "        vertical-align: top;\n",
       "    }\n",
       "\n",
       "    .dataframe thead th {\n",
       "        text-align: right;\n",
       "    }\n",
       "</style>\n",
       "<table border=\"1\" class=\"dataframe\">\n",
       "  <thead>\n",
       "    <tr style=\"text-align: right;\">\n",
       "      <th></th>\n",
       "      <th>Name</th>\n",
       "      <th>Gender</th>\n",
       "      <th>Department</th>\n",
       "      <th>Salary</th>\n",
       "      <th>Location</th>\n",
       "      <th>Rating</th>\n",
       "    </tr>\n",
       "  </thead>\n",
       "  <tbody>\n",
       "  </tbody>\n",
       "</table>\n",
       "</div>"
      ],
      "text/plain": [
       "Empty DataFrame\n",
       "Columns: [Name, Gender, Department, Salary, Location, Rating]\n",
       "Index: []"
      ]
     },
     "execution_count": 21,
     "metadata": {},
     "output_type": "execute_result"
    }
   ],
   "source": [
    "df[df['Location']=='Lag0s']"
   ]
  },
  {
   "cell_type": "code",
   "execution_count": 22,
   "id": "0cc2a6fc",
   "metadata": {},
   "outputs": [
    {
     "data": {
      "text/plain": [
       "array(['Lagos', 'Abuja', 'Kaduna'], dtype=object)"
      ]
     },
     "execution_count": 22,
     "metadata": {},
     "output_type": "execute_result"
    }
   ],
   "source": [
    "df['Location'].unique()"
   ]
  },
  {
   "cell_type": "code",
   "execution_count": 23,
   "id": "35aa3057",
   "metadata": {},
   "outputs": [],
   "source": [
    "df.dropna(subset=['Department','Salary'],inplace=True)"
   ]
  },
  {
   "cell_type": "code",
   "execution_count": 24,
   "id": "a4bae82e",
   "metadata": {},
   "outputs": [
    {
     "data": {
      "text/plain": [
       "Name          0\n",
       "Gender        0\n",
       "Department    0\n",
       "Salary        0\n",
       "Location      0\n",
       "Rating        0\n",
       "dtype: int64"
      ]
     },
     "execution_count": 24,
     "metadata": {},
     "output_type": "execute_result"
    }
   ],
   "source": [
    "df.isnull().sum()"
   ]
  },
  {
   "cell_type": "code",
   "execution_count": 25,
   "id": "6caa4217",
   "metadata": {},
   "outputs": [
    {
     "name": "stdout",
     "output_type": "stream",
     "text": [
      "<class 'pandas.core.frame.DataFrame'>\n",
      "Int64Index: 945 entries, 0 to 1012\n",
      "Data columns (total 6 columns):\n",
      " #   Column      Non-Null Count  Dtype \n",
      "---  ------      --------------  ----- \n",
      " 0   Name        945 non-null    object\n",
      " 1   Gender      945 non-null    object\n",
      " 2   Department  945 non-null    object\n",
      " 3   Salary      945 non-null    object\n",
      " 4   Location    945 non-null    object\n",
      " 5   Rating      945 non-null    object\n",
      "dtypes: object(6)\n",
      "memory usage: 51.7+ KB\n"
     ]
    }
   ],
   "source": [
    "df.info()"
   ]
  },
  {
   "cell_type": "code",
   "execution_count": 26,
   "id": "4ce5d240",
   "metadata": {},
   "outputs": [
    {
     "data": {
      "text/html": [
       "<div>\n",
       "<style scoped>\n",
       "    .dataframe tbody tr th:only-of-type {\n",
       "        vertical-align: middle;\n",
       "    }\n",
       "\n",
       "    .dataframe tbody tr th {\n",
       "        vertical-align: top;\n",
       "    }\n",
       "\n",
       "    .dataframe thead th {\n",
       "        text-align: right;\n",
       "    }\n",
       "</style>\n",
       "<table border=\"1\" class=\"dataframe\">\n",
       "  <thead>\n",
       "    <tr style=\"text-align: right;\">\n",
       "      <th></th>\n",
       "      <th>Name</th>\n",
       "      <th>Gender</th>\n",
       "      <th>Department</th>\n",
       "      <th>Salary</th>\n",
       "      <th>Location</th>\n",
       "      <th>Rating</th>\n",
       "    </tr>\n",
       "  </thead>\n",
       "  <tbody>\n",
       "    <tr>\n",
       "      <th>0</th>\n",
       "      <td>Ches Bonnell</td>\n",
       "      <td>Male</td>\n",
       "      <td>Sales</td>\n",
       "      <td>$88,050</td>\n",
       "      <td>Lagos</td>\n",
       "      <td>Very Good</td>\n",
       "    </tr>\n",
       "    <tr>\n",
       "      <th>1</th>\n",
       "      <td>Garwin Peasegood</td>\n",
       "      <td>Female</td>\n",
       "      <td>Engineering</td>\n",
       "      <td>$68,220</td>\n",
       "      <td>Lagos</td>\n",
       "      <td>Good</td>\n",
       "    </tr>\n",
       "    <tr>\n",
       "      <th>3</th>\n",
       "      <td>Saunders Blumson</td>\n",
       "      <td>Non-Binary</td>\n",
       "      <td>Legal</td>\n",
       "      <td>$56,370</td>\n",
       "      <td>Kaduna</td>\n",
       "      <td>Very Good</td>\n",
       "    </tr>\n",
       "    <tr>\n",
       "      <th>4</th>\n",
       "      <td>Gardy Grigorey</td>\n",
       "      <td>Female</td>\n",
       "      <td>Support</td>\n",
       "      <td>$107,090</td>\n",
       "      <td>Kaduna</td>\n",
       "      <td>Poor</td>\n",
       "    </tr>\n",
       "    <tr>\n",
       "      <th>5</th>\n",
       "      <td>Marlie Charsley</td>\n",
       "      <td>Male</td>\n",
       "      <td>Support</td>\n",
       "      <td>$108,450</td>\n",
       "      <td>Abuja</td>\n",
       "      <td>Poor</td>\n",
       "    </tr>\n",
       "  </tbody>\n",
       "</table>\n",
       "</div>"
      ],
      "text/plain": [
       "               Name      Gender   Department     Salary Location     Rating\n",
       "0      Ches Bonnell        Male        Sales   $88,050     Lagos  Very Good\n",
       "1  Garwin Peasegood      Female  Engineering   $68,220     Lagos       Good\n",
       "3  Saunders Blumson  Non-Binary        Legal   $56,370    Kaduna  Very Good\n",
       "4    Gardy Grigorey      Female      Support  $107,090    Kaduna       Poor\n",
       "5   Marlie Charsley        Male      Support  $108,450     Abuja       Poor"
      ]
     },
     "execution_count": 26,
     "metadata": {},
     "output_type": "execute_result"
    }
   ],
   "source": [
    "df.head()"
   ]
  },
  {
   "cell_type": "code",
   "execution_count": 27,
   "id": "1cb444ca",
   "metadata": {},
   "outputs": [
    {
     "data": {
      "text/plain": [
       "Name          object\n",
       "Gender        object\n",
       "Department    object\n",
       "Salary        object\n",
       "Location      object\n",
       "Rating        object\n",
       "dtype: object"
      ]
     },
     "execution_count": 27,
     "metadata": {},
     "output_type": "execute_result"
    }
   ],
   "source": [
    "df.dtypes"
   ]
  },
  {
   "cell_type": "code",
   "execution_count": 31,
   "id": "4a9dd372",
   "metadata": {},
   "outputs": [
    {
     "name": "stderr",
     "output_type": "stream",
     "text": [
      "C:\\Users\\mathi\\AppData\\Local\\Temp\\ipykernel_33484\\292967213.py:1: FutureWarning: The default value of regex will change from True to False in a future version. In addition, single character regular expressions will *not* be treated as literal strings when regex=True.\n",
      "  df['Salary'] = df['Salary'].str.replace('$','').str.replace(',','').astype(float)\n"
     ]
    }
   ],
   "source": [
    "df['Salary'] = df['Salary'].str.replace('$','').str.replace(',','').astype(float)"
   ]
  },
  {
   "cell_type": "code",
   "execution_count": 32,
   "id": "9d229caf",
   "metadata": {},
   "outputs": [
    {
     "data": {
      "text/html": [
       "<div>\n",
       "<style scoped>\n",
       "    .dataframe tbody tr th:only-of-type {\n",
       "        vertical-align: middle;\n",
       "    }\n",
       "\n",
       "    .dataframe tbody tr th {\n",
       "        vertical-align: top;\n",
       "    }\n",
       "\n",
       "    .dataframe thead th {\n",
       "        text-align: right;\n",
       "    }\n",
       "</style>\n",
       "<table border=\"1\" class=\"dataframe\">\n",
       "  <thead>\n",
       "    <tr style=\"text-align: right;\">\n",
       "      <th></th>\n",
       "      <th>Name</th>\n",
       "      <th>Gender</th>\n",
       "      <th>Department</th>\n",
       "      <th>Salary</th>\n",
       "      <th>Location</th>\n",
       "      <th>Rating</th>\n",
       "    </tr>\n",
       "  </thead>\n",
       "  <tbody>\n",
       "    <tr>\n",
       "      <th>0</th>\n",
       "      <td>Ches Bonnell</td>\n",
       "      <td>Male</td>\n",
       "      <td>Sales</td>\n",
       "      <td>88050.0</td>\n",
       "      <td>Lagos</td>\n",
       "      <td>Very Good</td>\n",
       "    </tr>\n",
       "    <tr>\n",
       "      <th>1</th>\n",
       "      <td>Garwin Peasegood</td>\n",
       "      <td>Female</td>\n",
       "      <td>Engineering</td>\n",
       "      <td>68220.0</td>\n",
       "      <td>Lagos</td>\n",
       "      <td>Good</td>\n",
       "    </tr>\n",
       "    <tr>\n",
       "      <th>3</th>\n",
       "      <td>Saunders Blumson</td>\n",
       "      <td>Non-Binary</td>\n",
       "      <td>Legal</td>\n",
       "      <td>56370.0</td>\n",
       "      <td>Kaduna</td>\n",
       "      <td>Very Good</td>\n",
       "    </tr>\n",
       "    <tr>\n",
       "      <th>4</th>\n",
       "      <td>Gardy Grigorey</td>\n",
       "      <td>Female</td>\n",
       "      <td>Support</td>\n",
       "      <td>107090.0</td>\n",
       "      <td>Kaduna</td>\n",
       "      <td>Poor</td>\n",
       "    </tr>\n",
       "    <tr>\n",
       "      <th>5</th>\n",
       "      <td>Marlie Charsley</td>\n",
       "      <td>Male</td>\n",
       "      <td>Support</td>\n",
       "      <td>108450.0</td>\n",
       "      <td>Abuja</td>\n",
       "      <td>Poor</td>\n",
       "    </tr>\n",
       "  </tbody>\n",
       "</table>\n",
       "</div>"
      ],
      "text/plain": [
       "               Name      Gender   Department    Salary Location     Rating\n",
       "0      Ches Bonnell        Male        Sales   88050.0    Lagos  Very Good\n",
       "1  Garwin Peasegood      Female  Engineering   68220.0    Lagos       Good\n",
       "3  Saunders Blumson  Non-Binary        Legal   56370.0   Kaduna  Very Good\n",
       "4    Gardy Grigorey      Female      Support  107090.0   Kaduna       Poor\n",
       "5   Marlie Charsley        Male      Support  108450.0    Abuja       Poor"
      ]
     },
     "execution_count": 32,
     "metadata": {},
     "output_type": "execute_result"
    }
   ],
   "source": [
    "df.head()"
   ]
  },
  {
   "cell_type": "code",
   "execution_count": 34,
   "id": "d4186b2f",
   "metadata": {},
   "outputs": [
    {
     "data": {
      "text/plain": [
       "Name           object\n",
       "Gender         object\n",
       "Department     object\n",
       "Salary        float64\n",
       "Location       object\n",
       "Rating         object\n",
       "dtype: object"
      ]
     },
     "execution_count": 34,
     "metadata": {},
     "output_type": "execute_result"
    }
   ],
   "source": [
    "df.dtypes"
   ]
  },
  {
   "cell_type": "code",
   "execution_count": 35,
   "id": "3466b37f",
   "metadata": {},
   "outputs": [
    {
     "name": "stdout",
     "output_type": "stream",
     "text": [
      "<class 'pandas.core.frame.DataFrame'>\n",
      "Int64Index: 945 entries, 0 to 1012\n",
      "Data columns (total 6 columns):\n",
      " #   Column      Non-Null Count  Dtype  \n",
      "---  ------      --------------  -----  \n",
      " 0   Name        945 non-null    object \n",
      " 1   Gender      945 non-null    object \n",
      " 2   Department  945 non-null    object \n",
      " 3   Salary      945 non-null    float64\n",
      " 4   Location    945 non-null    object \n",
      " 5   Rating      945 non-null    object \n",
      "dtypes: float64(1), object(5)\n",
      "memory usage: 51.7+ KB\n"
     ]
    }
   ],
   "source": [
    "df.info()"
   ]
  },
  {
   "cell_type": "code",
   "execution_count": 36,
   "id": "ecdac405",
   "metadata": {},
   "outputs": [
    {
     "data": {
      "text/plain": [
       "2"
      ]
     },
     "execution_count": 36,
     "metadata": {},
     "output_type": "execute_result"
    }
   ],
   "source": [
    "df.duplicated().sum()"
   ]
  },
  {
   "cell_type": "code",
   "execution_count": 37,
   "id": "7af37348",
   "metadata": {},
   "outputs": [],
   "source": [
    "df.drop_duplicates(inplace=True)"
   ]
  },
  {
   "cell_type": "code",
   "execution_count": 38,
   "id": "cfe9271e",
   "metadata": {},
   "outputs": [
    {
     "data": {
      "text/plain": [
       "0"
      ]
     },
     "execution_count": 38,
     "metadata": {},
     "output_type": "execute_result"
    }
   ],
   "source": [
    "df.duplicated().sum()"
   ]
  },
  {
   "cell_type": "code",
   "execution_count": 39,
   "id": "e359dfc8",
   "metadata": {},
   "outputs": [
    {
     "data": {
      "text/plain": [
       "(943, 6)"
      ]
     },
     "execution_count": 39,
     "metadata": {},
     "output_type": "execute_result"
    }
   ],
   "source": [
    "df.shape"
   ]
  },
  {
   "cell_type": "code",
   "execution_count": 40,
   "id": "51620746",
   "metadata": {},
   "outputs": [
    {
     "data": {
      "text/plain": [
       "73747.45493107104"
      ]
     },
     "execution_count": 40,
     "metadata": {},
     "output_type": "execute_result"
    }
   ],
   "source": [
    "df['Salary'].mean()"
   ]
  },
  {
   "cell_type": "code",
   "execution_count": 41,
   "id": "69f83b1e",
   "metadata": {},
   "outputs": [
    {
     "data": {
      "text/plain": [
       "73490.0"
      ]
     },
     "execution_count": 41,
     "metadata": {},
     "output_type": "execute_result"
    }
   ],
   "source": [
    "df['Salary'].median()"
   ]
  },
  {
   "cell_type": "code",
   "execution_count": 42,
   "id": "5cbd69e6",
   "metadata": {},
   "outputs": [
    {
     "data": {
      "text/plain": [
       "28130.0"
      ]
     },
     "execution_count": 42,
     "metadata": {},
     "output_type": "execute_result"
    }
   ],
   "source": [
    "df['Salary'].min()"
   ]
  },
  {
   "cell_type": "code",
   "execution_count": 43,
   "id": "79edd2b9",
   "metadata": {},
   "outputs": [
    {
     "data": {
      "text/plain": [
       "119930.0"
      ]
     },
     "execution_count": 43,
     "metadata": {},
     "output_type": "execute_result"
    }
   ],
   "source": [
    "df['Salary'].max()"
   ]
  },
  {
   "cell_type": "code",
   "execution_count": 44,
   "id": "f5d6ed85",
   "metadata": {},
   "outputs": [
    {
     "data": {
      "text/html": [
       "<div>\n",
       "<style scoped>\n",
       "    .dataframe tbody tr th:only-of-type {\n",
       "        vertical-align: middle;\n",
       "    }\n",
       "\n",
       "    .dataframe tbody tr th {\n",
       "        vertical-align: top;\n",
       "    }\n",
       "\n",
       "    .dataframe thead th {\n",
       "        text-align: right;\n",
       "    }\n",
       "</style>\n",
       "<table border=\"1\" class=\"dataframe\">\n",
       "  <thead>\n",
       "    <tr style=\"text-align: right;\">\n",
       "      <th></th>\n",
       "      <th>Salary</th>\n",
       "    </tr>\n",
       "  </thead>\n",
       "  <tbody>\n",
       "    <tr>\n",
       "      <th>count</th>\n",
       "      <td>943.000000</td>\n",
       "    </tr>\n",
       "    <tr>\n",
       "      <th>mean</th>\n",
       "      <td>73747.454931</td>\n",
       "    </tr>\n",
       "    <tr>\n",
       "      <th>std</th>\n",
       "      <td>26623.275936</td>\n",
       "    </tr>\n",
       "    <tr>\n",
       "      <th>min</th>\n",
       "      <td>28130.000000</td>\n",
       "    </tr>\n",
       "    <tr>\n",
       "      <th>25%</th>\n",
       "      <td>50380.000000</td>\n",
       "    </tr>\n",
       "    <tr>\n",
       "      <th>50%</th>\n",
       "      <td>73490.000000</td>\n",
       "    </tr>\n",
       "    <tr>\n",
       "      <th>75%</th>\n",
       "      <td>96615.000000</td>\n",
       "    </tr>\n",
       "    <tr>\n",
       "      <th>max</th>\n",
       "      <td>119930.000000</td>\n",
       "    </tr>\n",
       "  </tbody>\n",
       "</table>\n",
       "</div>"
      ],
      "text/plain": [
       "              Salary\n",
       "count     943.000000\n",
       "mean    73747.454931\n",
       "std     26623.275936\n",
       "min     28130.000000\n",
       "25%     50380.000000\n",
       "50%     73490.000000\n",
       "75%     96615.000000\n",
       "max    119930.000000"
      ]
     },
     "execution_count": 44,
     "metadata": {},
     "output_type": "execute_result"
    }
   ],
   "source": [
    "df.describe()"
   ]
  },
  {
   "cell_type": "code",
   "execution_count": 46,
   "id": "30d90c82",
   "metadata": {},
   "outputs": [
    {
     "data": {
      "text/plain": [
       "Product Management          89\n",
       "Legal                       88\n",
       "Human Resources             82\n",
       "Services                    82\n",
       "Business Development        81\n",
       "Sales                       80\n",
       "Support                     80\n",
       "Engineering                 79\n",
       "Training                    76\n",
       "Research and Development    74\n",
       "Accounting                  67\n",
       "Marketing                   65\n",
       "Name: Department, dtype: int64"
      ]
     },
     "execution_count": 46,
     "metadata": {},
     "output_type": "execute_result"
    }
   ],
   "source": [
    "# Employee Counts by Department\n",
    "emp_counts_dept = df['Department'].value_counts()\n",
    "emp_counts_dept"
   ]
  },
  {
   "cell_type": "code",
   "execution_count": 47,
   "id": "654a5553",
   "metadata": {},
   "outputs": [
    {
     "data": {
      "text/plain": [
       "Kaduna    360\n",
       "Abuja     333\n",
       "Lagos     250\n",
       "Name: Location, dtype: int64"
      ]
     },
     "execution_count": 47,
     "metadata": {},
     "output_type": "execute_result"
    }
   ],
   "source": [
    "# Employee Counts by Location\n",
    "emp_counts_loc = df['Location'].value_counts()\n",
    "emp_counts_loc"
   ]
  },
  {
   "cell_type": "code",
   "execution_count": 48,
   "id": "9e65b3c1",
   "metadata": {},
   "outputs": [
    {
     "data": {
      "text/plain": [
       "Male          464\n",
       "Female        440\n",
       "Non-Binary     39\n",
       "Name: Gender, dtype: int64"
      ]
     },
     "execution_count": 48,
     "metadata": {},
     "output_type": "execute_result"
    }
   ],
   "source": [
    "# Employee Counts by Gender\n",
    "emp_counts_gen = df['Gender'].value_counts()\n",
    "emp_counts_gen"
   ]
  },
  {
   "cell_type": "code",
   "execution_count": 50,
   "id": "20d1d53f",
   "metadata": {},
   "outputs": [
    {
     "data": {
      "text/plain": [
       "Gender\n",
       "Female        72165.681818\n",
       "Male          74834.612069\n",
       "Non-Binary    78658.717949\n",
       "Name: Salary, dtype: float64"
      ]
     },
     "execution_count": 50,
     "metadata": {},
     "output_type": "execute_result"
    }
   ],
   "source": [
    "# Average Salary by Gender\n",
    "avg_salary_gen = df.groupby('Gender')['Salary'].mean()\n",
    "avg_salary_gen"
   ]
  },
  {
   "cell_type": "code",
   "execution_count": 51,
   "id": "d1e81ec5",
   "metadata": {},
   "outputs": [
    {
     "data": {
      "text/plain": [
       "Department                Gender    \n",
       "Accounting                Male          37\n",
       "                          Female        28\n",
       "                          Non-Binary     2\n",
       "Business Development      Female        41\n",
       "                          Male          37\n",
       "                          Non-Binary     3\n",
       "Engineering               Female        38\n",
       "                          Male          36\n",
       "                          Non-Binary     5\n",
       "Human Resources           Female        41\n",
       "                          Male          38\n",
       "                          Non-Binary     3\n",
       "Legal                     Male          49\n",
       "                          Female        34\n",
       "                          Non-Binary     5\n",
       "Marketing                 Male          33\n",
       "                          Female        31\n",
       "                          Non-Binary     1\n",
       "Product Management        Male          47\n",
       "                          Female        41\n",
       "                          Non-Binary     1\n",
       "Research and Development  Female        38\n",
       "                          Male          31\n",
       "                          Non-Binary     5\n",
       "Sales                     Male          40\n",
       "                          Female        36\n",
       "                          Non-Binary     4\n",
       "Services                  Female        42\n",
       "                          Male          37\n",
       "                          Non-Binary     3\n",
       "Support                   Male          42\n",
       "                          Female        34\n",
       "                          Non-Binary     4\n",
       "Training                  Male          37\n",
       "                          Female        36\n",
       "                          Non-Binary     3\n",
       "Name: Gender, dtype: int64"
      ]
     },
     "execution_count": 51,
     "metadata": {},
     "output_type": "execute_result"
    }
   ],
   "source": [
    "# Gender representation in each dept\n",
    "gen_dept = df.groupby('Department')['Gender'].value_counts()\n",
    "gen_dept"
   ]
  },
  {
   "cell_type": "code",
   "execution_count": 52,
   "id": "614f4241",
   "metadata": {},
   "outputs": [
    {
     "data": {
      "text/plain": [
       "Department\n",
       "Accounting                  76358.507463\n",
       "Business Development        77089.135802\n",
       "Engineering                 72204.810127\n",
       "Human Resources             70936.951220\n",
       "Legal                       71477.272727\n",
       "Marketing                   76774.923077\n",
       "Product Management          73201.348315\n",
       "Research and Development    68445.405405\n",
       "Sales                       72159.125000\n",
       "Services                    75734.756098\n",
       "Support                     75230.250000\n",
       "Training                    76328.289474\n",
       "Name: Salary, dtype: float64"
      ]
     },
     "execution_count": 52,
     "metadata": {},
     "output_type": "execute_result"
    }
   ],
   "source": [
    "# Average Salary by Department\n",
    "avg_sal_dept = df.groupby('Department')['Salary'].mean()\n",
    "avg_sal_dept"
   ]
  },
  {
   "cell_type": "code",
   "execution_count": 53,
   "id": "8679f326",
   "metadata": {},
   "outputs": [
    {
     "data": {
      "text/plain": [
       "Location\n",
       "Abuja     72058.258258\n",
       "Kaduna    73871.888889\n",
       "Lagos     75818.280000\n",
       "Name: Salary, dtype: float64"
      ]
     },
     "execution_count": 53,
     "metadata": {},
     "output_type": "execute_result"
    }
   ],
   "source": [
    "# Average Salary by Location\n",
    "avg_sal_loc = df.groupby('Location')['Salary'].mean()\n",
    "avg_sal_loc"
   ]
  },
  {
   "cell_type": "code",
   "execution_count": 54,
   "id": "2466fe23",
   "metadata": {},
   "outputs": [
    {
     "data": {
      "text/html": [
       "<div>\n",
       "<style scoped>\n",
       "    .dataframe tbody tr th:only-of-type {\n",
       "        vertical-align: middle;\n",
       "    }\n",
       "\n",
       "    .dataframe tbody tr th {\n",
       "        vertical-align: top;\n",
       "    }\n",
       "\n",
       "    .dataframe thead th {\n",
       "        text-align: right;\n",
       "    }\n",
       "</style>\n",
       "<table border=\"1\" class=\"dataframe\">\n",
       "  <thead>\n",
       "    <tr style=\"text-align: right;\">\n",
       "      <th></th>\n",
       "      <th>Name</th>\n",
       "      <th>Gender</th>\n",
       "      <th>Department</th>\n",
       "      <th>Salary</th>\n",
       "      <th>Location</th>\n",
       "      <th>Rating</th>\n",
       "    </tr>\n",
       "  </thead>\n",
       "  <tbody>\n",
       "    <tr>\n",
       "      <th>876</th>\n",
       "      <td>Kai Ryder</td>\n",
       "      <td>Female</td>\n",
       "      <td>Accounting</td>\n",
       "      <td>119930.0</td>\n",
       "      <td>Lagos</td>\n",
       "      <td>Average</td>\n",
       "    </tr>\n",
       "    <tr>\n",
       "      <th>22</th>\n",
       "      <td>Tiffani Mecozzi</td>\n",
       "      <td>Female</td>\n",
       "      <td>Training</td>\n",
       "      <td>119750.0</td>\n",
       "      <td>Lagos</td>\n",
       "      <td>Average</td>\n",
       "    </tr>\n",
       "    <tr>\n",
       "      <th>1005</th>\n",
       "      <td>Anni Dinse</td>\n",
       "      <td>Male</td>\n",
       "      <td>Product Management</td>\n",
       "      <td>119670.0</td>\n",
       "      <td>Lagos</td>\n",
       "      <td>Not Rated</td>\n",
       "    </tr>\n",
       "    <tr>\n",
       "      <th>899</th>\n",
       "      <td>Anni Dinse</td>\n",
       "      <td>Male</td>\n",
       "      <td>Product Management</td>\n",
       "      <td>119670.0</td>\n",
       "      <td>Lagos</td>\n",
       "      <td>Average</td>\n",
       "    </tr>\n",
       "    <tr>\n",
       "      <th>202</th>\n",
       "      <td>Gamaliel Ewins</td>\n",
       "      <td>Male</td>\n",
       "      <td>Product Management</td>\n",
       "      <td>119660.0</td>\n",
       "      <td>Abuja</td>\n",
       "      <td>Average</td>\n",
       "    </tr>\n",
       "  </tbody>\n",
       "</table>\n",
       "</div>"
      ],
      "text/plain": [
       "                 Name  Gender          Department    Salary Location  \\\n",
       "876         Kai Ryder  Female          Accounting  119930.0    Lagos   \n",
       "22    Tiffani Mecozzi  Female            Training  119750.0    Lagos   \n",
       "1005       Anni Dinse    Male  Product Management  119670.0    Lagos   \n",
       "899        Anni Dinse    Male  Product Management  119670.0    Lagos   \n",
       "202    Gamaliel Ewins    Male  Product Management  119660.0    Abuja   \n",
       "\n",
       "         Rating  \n",
       "876     Average  \n",
       "22      Average  \n",
       "1005  Not Rated  \n",
       "899     Average  \n",
       "202     Average  "
      ]
     },
     "execution_count": 54,
     "metadata": {},
     "output_type": "execute_result"
    }
   ],
   "source": [
    "top_5_earners = df.sort_values(by='Salary',ascending=False).head(5)\n",
    "top_5_earners"
   ]
  },
  {
   "cell_type": "code",
   "execution_count": 55,
   "id": "d5ee5a56",
   "metadata": {},
   "outputs": [
    {
     "data": {
      "text/html": [
       "<div>\n",
       "<style scoped>\n",
       "    .dataframe tbody tr th:only-of-type {\n",
       "        vertical-align: middle;\n",
       "    }\n",
       "\n",
       "    .dataframe tbody tr th {\n",
       "        vertical-align: top;\n",
       "    }\n",
       "\n",
       "    .dataframe thead th {\n",
       "        text-align: right;\n",
       "    }\n",
       "</style>\n",
       "<table border=\"1\" class=\"dataframe\">\n",
       "  <thead>\n",
       "    <tr style=\"text-align: right;\">\n",
       "      <th></th>\n",
       "      <th>Name</th>\n",
       "      <th>Gender</th>\n",
       "      <th>Department</th>\n",
       "      <th>Salary</th>\n",
       "      <th>Location</th>\n",
       "      <th>Rating</th>\n",
       "    </tr>\n",
       "  </thead>\n",
       "  <tbody>\n",
       "    <tr>\n",
       "      <th>428</th>\n",
       "      <td>Addia Penwright</td>\n",
       "      <td>Male</td>\n",
       "      <td>Research and Development</td>\n",
       "      <td>28130.0</td>\n",
       "      <td>Abuja</td>\n",
       "      <td>Poor</td>\n",
       "    </tr>\n",
       "    <tr>\n",
       "      <th>533</th>\n",
       "      <td>Edi Hofton</td>\n",
       "      <td>Male</td>\n",
       "      <td>Research and Development</td>\n",
       "      <td>28160.0</td>\n",
       "      <td>Abuja</td>\n",
       "      <td>Not Rated</td>\n",
       "    </tr>\n",
       "    <tr>\n",
       "      <th>718</th>\n",
       "      <td>Hephzibah Summerell</td>\n",
       "      <td>Female</td>\n",
       "      <td>Services</td>\n",
       "      <td>28310.0</td>\n",
       "      <td>Abuja</td>\n",
       "      <td>Average</td>\n",
       "    </tr>\n",
       "    <tr>\n",
       "      <th>40</th>\n",
       "      <td>Mendel Gentsch</td>\n",
       "      <td>Male</td>\n",
       "      <td>Human Resources</td>\n",
       "      <td>28330.0</td>\n",
       "      <td>Lagos</td>\n",
       "      <td>Very Poor</td>\n",
       "    </tr>\n",
       "    <tr>\n",
       "      <th>630</th>\n",
       "      <td>Ignacius Losel</td>\n",
       "      <td>Male</td>\n",
       "      <td>Legal</td>\n",
       "      <td>28480.0</td>\n",
       "      <td>Kaduna</td>\n",
       "      <td>Poor</td>\n",
       "    </tr>\n",
       "  </tbody>\n",
       "</table>\n",
       "</div>"
      ],
      "text/plain": [
       "                    Name  Gender                Department   Salary Location  \\\n",
       "428      Addia Penwright    Male  Research and Development  28130.0    Abuja   \n",
       "533           Edi Hofton    Male  Research and Development  28160.0    Abuja   \n",
       "718  Hephzibah Summerell  Female                  Services  28310.0    Abuja   \n",
       "40        Mendel Gentsch    Male           Human Resources  28330.0    Lagos   \n",
       "630       Ignacius Losel    Male                     Legal  28480.0   Kaduna   \n",
       "\n",
       "        Rating  \n",
       "428       Poor  \n",
       "533  Not Rated  \n",
       "718    Average  \n",
       "40   Very Poor  \n",
       "630       Poor  "
      ]
     },
     "execution_count": 55,
     "metadata": {},
     "output_type": "execute_result"
    }
   ],
   "source": [
    "bottom_5_earners = df.sort_values(by='Salary',ascending=True).head(5)\n",
    "bottom_5_earners"
   ]
  },
  {
   "cell_type": "code",
   "execution_count": 58,
   "id": "68df6235",
   "metadata": {},
   "outputs": [
    {
     "data": {
      "image/png": "[encoded data removed]",
      "text/plain": [
       "<Figure size 1000x700 with 1 Axes>"
      ]
     },
     "metadata": {},
     "output_type": "display_data"
    }
   ],
   "source": [
    "# Plot Top 5 Earners\n",
    "plt.figure(figsize=(10,7))\n",
    "plt.bar(top_5_earners['Name'],top_5_earners['Salary'],color='skyblue')\n",
    "plt.xlabel('Salary')\n",
    "plt.ylabel('Employee Name')\n",
    "plt.title('Top 5 Salary Earners')\n",
    "plt.show()"
   ]
  },
  {
   "cell_type": "code",
   "execution_count": 60,
   "id": "7b60b0bf",
   "metadata": {},
   "outputs": [
    {
     "data": {
      "image/png": "[encoded data removed]",
      "text/plain": [
       "<Figure size 1000x700 with 1 Axes>"
      ]
     },
     "metadata": {},
     "output_type": "display_data"
    }
   ],
   "source": [
    "# Plot Top 5 Earners\n",
    "plt.figure(figsize=(10,7))\n",
    "plt.barh(top_5_earners['Name'],top_5_earners['Salary'],color='skyblue')\n",
    "plt.xlabel('Salary')\n",
    "plt.ylabel('Employee Name')\n",
    "plt.title('Top 5 Salary Earners')\n",
    "plt.gca().invert_yaxis()\n",
    "plt.show()"
   ]
  },
  {
   "cell_type": "code",
   "execution_count": null,
   "id": "35183c22",
   "metadata": {},
   "outputs": [],
   "source": []
  }
 ],
 "metadata": {
  "kernelspec": {
   "display_name": "Python 3 (ipykernel)",
   "language": "python",
   "name": "python3"
  },
  "language_info": {
   "codemirror_mode": {
    "name": "ipython",
    "version": 3
   },
   "file_extension": ".py",
   "mimetype": "text/x-python",
   "name": "python",
   "nbconvert_exporter": "python",
   "pygments_lexer": "ipython3",
   "version": "3.11.4"
  }
 },
 "nbformat": 4,
 "nbformat_minor": 5
}
